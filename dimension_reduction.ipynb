{
 "cells": [
  {
   "cell_type": "code",
   "execution_count": 49,
   "id": "04a17bcf",
   "metadata": {},
   "outputs": [],
   "source": [
    "from PIL import Image"
   ]
  },
  {
   "cell_type": "code",
   "execution_count": 50,
   "id": "038bf6a4",
   "metadata": {},
   "outputs": [],
   "source": [
    "img = Image.open(\"Lenna.png\").convert(\"RGB\")\n",
    "img.save(\"Lenna.ppm\")"
   ]
  },
  {
   "cell_type": "code",
   "execution_count": 51,
   "id": "b49072a7",
   "metadata": {},
   "outputs": [],
   "source": [
    "def read_ppm(path):\n",
    "    def read_line_skip_comments(f):\n",
    "        line = f.readline()\n",
    "        while line.startswith(b'#') or line.strip() == b'':\n",
    "            line = f.readline()\n",
    "        return line\n",
    "\n",
    "    with open(path, \"rb\") as f:\n",
    "        assert f.readline().strip() == b'P6'  # Magic number\n",
    "\n",
    "        width, height = map(int, read_line_skip_comments(f).split())\n",
    "        max_val = int(read_line_skip_comments(f))\n",
    "\n",
    "        pixel_data = f.read(width * height * 3)\n",
    "        pixels = [(pixel_data[i], pixel_data[i+1], pixel_data[i+2]) \n",
    "                  for i in range(0, len(pixel_data), 3)]\n",
    "\n",
    "    return width, height, max_val, pixels"
   ]
  },
  {
   "cell_type": "code",
   "execution_count": 52,
   "id": "2dc9be8a",
   "metadata": {},
   "outputs": [],
   "source": [
    "width, height, max_value, pixels = read_ppm(\"Lenna.ppm\")"
   ]
  },
  {
   "cell_type": "code",
   "execution_count": 53,
   "id": "bfce7eed",
   "metadata": {},
   "outputs": [],
   "source": [
    "def rgb_to_grayscale(pixels):\n",
    "    grayscale_pixels = []\n",
    "    for r, g, b in pixels:\n",
    "        gray = int(0.299 * r + 0.587 * g + 0.114 * b)\n",
    "        grayscale_pixels.append(gray)\n",
    "    return grayscale_pixels"
   ]
  },
  {
   "cell_type": "code",
   "execution_count": 54,
   "id": "1fa9b6dc",
   "metadata": {},
   "outputs": [],
   "source": [
    "grayscale_pixels = rgb_to_grayscale(pixels)"
   ]
  },
  {
   "cell_type": "code",
   "execution_count": 55,
   "id": "e2ff3feb",
   "metadata": {},
   "outputs": [],
   "source": [
    "def save_pgm(filename, width, height, max_value, grayscale_pixels):\n",
    "    with open(filename, 'w') as f:\n",
    "        f.write(\"P2\\n\")\n",
    "        f.write(f\"# Grayscale image\\n\")\n",
    "        f.write(f\"{width} {height}\\n\")\n",
    "        f.write(f\"{max_value}\\n\")\n",
    "\n",
    "        for i in range(height):\n",
    "            row = grayscale_pixels[i * width : (i + 1) * width] \n",
    "            f.write(\" \".join(map(str, row)) + \"\\n\")\n"
   ]
  },
  {
   "cell_type": "code",
   "execution_count": 56,
   "id": "c56f7ded",
   "metadata": {},
   "outputs": [],
   "source": [
    "save_pgm(\"Lenna_gray.pgm\", width, height, max_value, grayscale_pixels)\n"
   ]
  },
  {
   "cell_type": "code",
   "execution_count": 57,
   "id": "6fffab21",
   "metadata": {},
   "outputs": [],
   "source": [
    "def binarize(grayscale_pixels, threshold=128):\n",
    "    binary_pixels = []\n",
    "    for gray in grayscale_pixels:\n",
    "        binary_value = 255 if gray >= threshold else 0\n",
    "        binary_pixels.append(binary_value)\n",
    "    return binary_pixels"
   ]
  },
  {
   "cell_type": "code",
   "execution_count": 58,
   "id": "4c1ac09d",
   "metadata": {},
   "outputs": [],
   "source": [
    "binary_pixels = binarize(grayscale_pixels, threshold=128)"
   ]
  },
  {
   "cell_type": "code",
   "execution_count": 59,
   "id": "91a184ab",
   "metadata": {},
   "outputs": [],
   "source": [
    "save_pgm(\"Lenna_binary.pgm\", width, height, max_value, binary_pixels)\n"
   ]
  },
  {
   "cell_type": "code",
   "execution_count": 63,
   "id": "16ae1e67",
   "metadata": {},
   "outputs": [],
   "source": [
    "# Convert .pgm images to png\n",
    "\n",
    "for name in [\"Lenna.ppm\", \"Lenna_gray.pgm\", \"Lenna_binary.pgm\"]:\n",
    "    img = Image.open(name)\n",
    "    img.save(name.replace(\".ppm\", \".png\").replace(\".pgm\", \".png\"))"
   ]
  },
  {
   "cell_type": "code",
   "execution_count": null,
   "id": "8eb11298",
   "metadata": {},
   "outputs": [],
   "source": []
  }
 ],
 "metadata": {
  "kernelspec": {
   "display_name": "venv",
   "language": "python",
   "name": "python3"
  },
  "language_info": {
   "codemirror_mode": {
    "name": "ipython",
    "version": 3
   },
   "file_extension": ".py",
   "mimetype": "text/x-python",
   "name": "python",
   "nbconvert_exporter": "python",
   "pygments_lexer": "ipython3",
   "version": "3.12.3"
  }
 },
 "nbformat": 4,
 "nbformat_minor": 5
}
